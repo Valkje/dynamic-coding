{
 "cells": [
  {
   "cell_type": "code",
   "execution_count": 2,
   "metadata": {},
   "outputs": [
    {
     "data": {
      "text/plain": [
       "{'divide': 'raise', 'over': 'raise', 'under': 'raise', 'invalid': 'raise'}"
      ]
     },
     "execution_count": 2,
     "metadata": {},
     "output_type": "execute_result"
    }
   ],
   "source": [
    "import numpy as np\n",
    "import matplotlib.pyplot as plt\n",
    "import scipy.io\n",
    "from scipy.spatial import distance\n",
    "from IPython.display import clear_output, display\n",
    "from scipy.ndimage import gaussian_filter\n",
    "from sklearn.cluster import KMeans\n",
    "\n",
    "import wolff\n",
    "\n",
    "# Track calculation errors\n",
    "np.seterr('raise')"
   ]
  },
  {
   "cell_type": "code",
   "execution_count": 2,
   "metadata": {},
   "outputs": [],
   "source": [
    "def similarity(data, theta, angspace, bin_width):\n",
    "    num_trials = data.shape[0]\n",
    "    num_channels = data.shape[1]\n",
    "    timesteps = data.shape[2]\n",
    "\n",
    "    # distances.shape: trials by bins by time\n",
    "    distances = np.empty((num_trials, len(angspace), timesteps))\n",
    "    # cos_amp.shape: trials by time\n",
    "    cos_amp = np.empty((num_trials, timesteps))\n",
    "\n",
    "    for trl in range(0, num_trials):\n",
    "        clear_output(wait=True)\n",
    "        display(\"Trial \" + str(trl+1) + \"/\" + str(num_trials))\n",
    "        # Get all data except trl\n",
    "        trn_dat = data[np.arange(num_trials) != trl, :, :]\n",
    "        # Get all angles except the one associated with trl\n",
    "        trn_angle = theta[np.arange(num_trials) != trl]\n",
    "        # m.shape: bins by channels by time\n",
    "        m = np.empty((len(angspace), num_channels, timesteps))\n",
    "\n",
    "        # Average the training data into orientation bins relative to the\n",
    "        # test-trial's orientation\n",
    "        for b in range(0, len(angspace)):\n",
    "            angle_dists = np.abs(np.angle(np.exp(1j*trn_angle) / np.exp(1j*(theta[trl] - angspace[b]))))\n",
    "            m[b, :, :] = np.mean(trn_dat[angle_dists < bin_width, : , :], 0)\n",
    "\n",
    "        for ti in range(0, timesteps):\n",
    "            # Using np.cov gives different results than the matlab script\n",
    "            sigma = covdiag(trn_dat[:, :, ti])\n",
    "            sigma = np.linalg.pinv(sigma)\n",
    "            # Calculate the distances between the trial and all angle bins\n",
    "            # distances[trl, i, ti] = distance.mahalanobis(m[i, :, ti], data[trl, :, ti], sigma)\n",
    "#             distances[trl, :, ti] = np.array([distance.mahalanobis(means, data[trl, :, ti], sigma) for means in m[:, :, ti]])\n",
    "            distances[trl, :, ti] = mahalanobis(m[:, :, ti], data[trl, :, ti], sigma)\n",
    "\n",
    "            # Convolve cosine of angspace with distances\n",
    "            # Since a perfect decoding distance curve resembles a reversed\n",
    "            # cosine (higher distance means higher value), the value is reversed\n",
    "            # for ease of interpretation, so that higher values mean better\n",
    "            # decoding\n",
    "            cos_amp[trl, ti] = -(np.mean(np.cos(angspace) * distances[trl, :, ti].T))\n",
    "#             cos_amp[trl, ti] = np.mean(np.cos(angspace) * -distances[trl, :, ti].T)\n",
    "\n",
    "    return (cos_amp, distances)\n",
    "\n",
    "def covdiag(m):\n",
    "    # m (t*n): t iid observations on n random variables\n",
    "    # sigma (n*n): Invertible covariance matrix estimator\n",
    "\n",
    "    # Subtract column means from every row\n",
    "    (t, n) = m.shape\n",
    "    m = m - np.mean(m, axis=0)\n",
    "\n",
    "    # Compute sample covariance matrix\n",
    "    sample = (1 / t) * np.matmul(m.T, m)\n",
    "\n",
    "    # Compute prior\n",
    "    prior = np.diag(np.diag(sample))\n",
    "\n",
    "    # Compute shrinkage parameters\n",
    "    d = 1/n * np.linalg.norm(sample - prior, 'fro') ** 2\n",
    "    y = m ** 2\n",
    "    r2 = 1 / n / t ** 2 * np.sum(np.matmul(y.T, y)) - 1 / n / t * np.sum(sample ** 2)\n",
    "\n",
    "    # Compute the estimator\n",
    "    shrinkage = max(0., min(1., r2 / d))\n",
    "    return shrinkage * prior + (1 - shrinkage) * sample\n",
    "\n",
    "def mahalanobis(u, v, VI):\n",
    "    # u.shape: bins by channels\n",
    "    # v.shape: channels\n",
    "    # VI.shape: channels by channels\n",
    "\n",
    "    # delta.shape: bins by channels\n",
    "    delta = u - v\n",
    "    # dot(delta, VI).shape: bins by channels\n",
    "    # delta.T.shape: channels by bins\n",
    "    # dot(dot(delta, VI), delta.T).shape: bins by bins\n",
    "    return np.sqrt(np.diag(np.dot(np.dot(delta, VI), delta.T)))"
   ]
  },
  {
   "cell_type": "code",
   "execution_count": 72,
   "metadata": {},
   "outputs": [],
   "source": [
    "# Matlab-shared Nengo data\n",
    "scipy.io.savemat('wolff/nengo.mat', dict(data=sen_data, angles=angles, bin_width=bin_width, angspace=angspace))"
   ]
  },
  {
   "cell_type": "code",
   "execution_count": 23,
   "metadata": {},
   "outputs": [],
   "source": [
    "# Matlab-shared mock data\n",
    "mat_data = np.random.normal(size=(100, 10, 100))\n",
    "mat_data[mat_data > np.pi] -= 2*np.pi\n",
    "mat_data[mat_data < -np.pi] += 2*np.pi\n",
    "\n",
    "mat_angles = np.random.normal(scale=np.pi, size=(100))\n",
    "mat_angles[mat_angles > np.pi] -= 2*np.pi\n",
    "mat_angles[mat_angles < -np.pi] += 2*np.pi\n",
    "\n",
    "mat_bin_width = np.pi / 6\n",
    "mat_angspace = np.arange(-np.pi, np.pi, mat_bin_width)\n",
    "scipy.io.savemat('wolff/mock.mat', dict(data=mat_data, angles=mat_angles, \n",
    "                                        bin_width=mat_bin_width, angspace=mat_angspace))"
   ]
  },
  {
   "cell_type": "code",
   "execution_count": 40,
   "metadata": {
    "scrolled": false
   },
   "outputs": [],
   "source": [
    "(mat_cos_amp, mat_dist) = similarity(mat_data, mat_angles, mat_angspace, mat_bin_width)"
   ]
  },
  {
   "cell_type": "code",
   "execution_count": 3,
   "metadata": {},
   "outputs": [
    {
     "data": {
      "text/plain": [
       "(350, 3000, 1000)"
      ]
     },
     "execution_count": 3,
     "metadata": {},
     "output_type": "execute_result"
    }
   ],
   "source": [
    "sen_data = np.load(\"data/neuro_sen4.npy\")\n",
    "sen_data.shape"
   ]
  },
  {
   "cell_type": "code",
   "execution_count": 8,
   "metadata": {},
   "outputs": [],
   "source": [
    "# Mean centre across channels\n",
    "sen_data = sen_data - np.expand_dims(np.mean(sen_data, axis=2), 2) # Expand dims to broadcast"
   ]
  },
  {
   "cell_type": "code",
   "execution_count": 9,
   "metadata": {
    "scrolled": true
   },
   "outputs": [
    {
     "name": "stdout",
     "output_type": "stream",
     "text": [
      "1000/1000\n"
     ]
    }
   ],
   "source": [
    "# Classical cross-correlation\n",
    "neuron_range = np.arange(neurons.shape[0])\n",
    "cross_cor_mat = np.zeros((neurons.shape[0], neurons.shape[0]))\n",
    "for i in neuron_range:\n",
    "    clear_output(wait=True)\n",
    "    print(str(i + 1) + \"/\" + str(neurons.shape[0]))\n",
    "    for j in neuron_range[neuron_range != i]:\n",
    "        cross_cor_mat[i, j] = np.correlate(neurons[i, :], neurons[j, :])"
   ]
  },
  {
   "cell_type": "code",
   "execution_count": 93,
   "metadata": {
    "scrolled": true
   },
   "outputs": [],
   "source": [
    "# Pearson correlations\n",
    "neurons = np.mean(sen_data, 0).T # 1000 by 3000\n",
    "# np.corrcoeff expects variables (channels/neurons) as rows and observations as columns\n",
    "pear = np.corrcoef(neurons)\n",
    "# Set diagonals to -1 instead of 1\n",
    "pear[np.arange(pear.shape[0]), np.arange(pear.shape[1])] = -1\n",
    "\n",
    "#np.stack((np.arange(pear.shape[0]), np.argmax(pear, axis=1)), axis=1)\n",
    "channel_num = 10\n",
    "channel_size = int(pear.shape[0] / channel_num)\n",
    "# Select channel_num prototypes\n",
    "protos = np.random.choice(np.arange(pear.shape[0]), size=channel_num, replace=False)\n",
    "\n",
    "neuron_groups = np.empty((channel_num, channel_size), dtype='int') # 10 by 100\n",
    "# First member of every neuron group is the prototype itself\n",
    "neuron_groups[:, 0] = np.copy(protos)\n",
    "# Eliminate protos from pear\n",
    "pear[:, protos] = -1\n",
    "\n",
    "for i in np.arange(1, neuron_groups.shape[1]): # 100 times\n",
    "    for channel, proto in enumerate(protos): # 10 times\n",
    "        # Get neuron most similar to proto, call it group_member\n",
    "        group_member = np.argmax(pear[proto, :])\n",
    "        # Eliminate group_member from pear\n",
    "        pear[:, group_member] = -1\n",
    "        neuron_groups[channel, i] = group_member"
   ]
  },
  {
   "cell_type": "code",
   "execution_count": 31,
   "metadata": {
    "scrolled": true
   },
   "outputs": [],
   "source": [
    "# Pearson correlations with corrected dimensions\n",
    "cut_data = sen_data[:, :500, :] # 350 by 500 by 1000\n",
    "neurons = np.mean(cut_data, 1).T # 1000 by 350\n",
    "# np.corrcoeff expects variables (channels/neurons) as rows and observations as columns\n",
    "pear = np.corrcoef(neurons)\n",
    "# Set diagonals to -1 instead of 1\n",
    "pear[np.arange(pear.shape[0]), np.arange(pear.shape[1])] = -1\n",
    "\n",
    "#np.stack((np.arange(pear.shape[0]), np.argmax(pear, axis=1)), axis=1)\n",
    "channel_num = 10\n",
    "channel_size = int(pear.shape[0] / channel_num)\n",
    "# Select channel_num prototypes\n",
    "protos = np.random.choice(np.arange(pear.shape[0]), size=channel_num, replace=False)\n",
    "\n",
    "neuron_groups = np.empty((channel_num, channel_size), dtype='int') # 10 by 100\n",
    "# First member of every neuron group is the prototype itself\n",
    "neuron_groups[:, 0] = np.copy(protos)\n",
    "# Eliminate protos from pear\n",
    "pear[:, protos] = -1\n",
    "\n",
    "for i in np.arange(1, neuron_groups.shape[1]): # 100 times\n",
    "    for channel, proto in enumerate(protos): # 10 times\n",
    "        # Get neuron most similar to proto, call it group_member\n",
    "        group_member = np.argmax(pear[proto, :])\n",
    "        # Eliminate group_member from pear\n",
    "        pear[:, group_member] = -1\n",
    "        neuron_groups[channel, i] = group_member"
   ]
  },
  {
   "cell_type": "code",
   "execution_count": 32,
   "metadata": {},
   "outputs": [
    {
     "name": "stdout",
     "output_type": "stream",
     "text": [
      "1/10\n",
      "2/10\n",
      "3/10\n",
      "4/10\n",
      "5/10\n",
      "6/10\n",
      "7/10\n",
      "8/10\n",
      "9/10\n",
      "10/10\n"
     ]
    }
   ],
   "source": [
    "data = np.empty((sen_data.shape[0], channel_num, sen_data.shape[1])) # 350 by 10 by 3000\n",
    "for channel in range(channel_num):\n",
    "    print(str(channel + 1) + \"/\" + str(channel_num))\n",
    "    data[:, channel, :] = np.mean(sen_data[:, :, neuron_groups[channel, :]], axis=2)"
   ]
  },
  {
   "cell_type": "code",
   "execution_count": 33,
   "metadata": {},
   "outputs": [],
   "source": [
    "# Add noise to prevent division by zero errors in covdiag()\n",
    "data += np.abs(np.random.normal(scale=1e-20, size=(data.shape[0], data.shape[1], data.shape[2])))"
   ]
  },
  {
   "cell_type": "code",
   "execution_count": 34,
   "metadata": {},
   "outputs": [
    {
     "data": {
      "text/plain": [
       "'Trial 350/350'"
      ]
     },
     "metadata": {},
     "output_type": "display_data"
    }
   ],
   "source": [
    "# n angles, in degrees\n",
    "angles = np.load(\"data/initial_angles_cued3.npy\")\n",
    "# Convert to radians\n",
    "angles = angles / 360 * 2 * np.pi\n",
    "\n",
    "bin_width = np.pi / 6\n",
    "angspace = np.arange(-np.pi, np.pi, bin_width)\n",
    "# angspace = np.arange(-np.pi, 0 + bin_width, bin_width) # [-pi, 0] (inclusive)\n",
    "\n",
    "(cos_amp, distances) = similarity(data, angles, angspace, bin_width)"
   ]
  },
  {
   "cell_type": "code",
   "execution_count": 37,
   "metadata": {},
   "outputs": [
    {
     "data": {
      "image/png": "[encoded data removed]",
      "text/plain": [
       "<Figure size 432x288 with 1 Axes>"
      ]
     },
     "metadata": {
      "needs_background": "light"
     },
     "output_type": "display_data"
    }
   ],
   "source": [
    "# New\n",
    "cos_amp_filtered = gaussian_filter(np.mean(cos_amp, axis=0), sigma=8)\n",
    "plt.plot(cos_amp_filtered)\n",
    "plt.ylim(-0.005, 0.005)\n",
    "plt.show()"
   ]
  },
  {
   "cell_type": "code",
   "execution_count": 10,
   "metadata": {
    "scrolled": true
   },
   "outputs": [
    {
     "data": {
      "image/png": "[encoded data removed]",
      "text/plain": [
       "<Figure size 432x288 with 1 Axes>"
      ]
     },
     "metadata": {
      "needs_background": "light"
     },
     "output_type": "display_data"
    }
   ],
   "source": [
    "# Old\n",
    "cos_amp_filtered = gaussian_filter(np.mean(cos_amp, axis=0), sigma=8)\n",
    "plt.plot(cos_amp_filtered)\n",
    "plt.show()"
   ]
  },
  {
   "cell_type": "code",
   "execution_count": null,
   "metadata": {},
   "outputs": [],
   "source": [
    "# K-means en dan op memory population\n",
    "\n",
    "# Er is een probleem met k-means: we hebben te maken met trials * timesteps * channels data, \n",
    "# en om k-means te gebruiken moeten die data worden teruggebracht naar twee dimensies, uiteindelijk\n",
    "# channels * timesteps. Je zou dan het gemiddelde kunnen nemen over alle trials. Maar stel dat in trial 1 \n",
    "# neuron 100 hevig vuurt voor de bijbehorende angle in de eerste 250 ms, en dat in trial 2 neuron 200\n",
    "# hevig vuurt voor de angle die daarbij hoort, dan lijkt het gemiddelde voor neuron 100 ontzettend veel\n",
    "# op dat van neuron 200 (namelijk hoog voor de eerste 250 timesteps). Dus we hebben ofwel een clustering-\n",
    "# algoritme nodig voor driedimensionale data, ofwel een manier nodig om de data goed te aggregeren.\n",
    "\n",
    "# Dit is wellicht te ondervangen door niet het gemiddelde te nemen over alle trials, maar over alle\n",
    "# timesteps. Op die manier worden de activatiepieken niet geconcentreerd in het begin van de timesteps\n",
    "# over alle channels/neuronen, maar krijg je hevige pieken voor trials en neuronen waar neuronen hevig\n",
    "# vuurden, en 0 voor trials en neuronen waar neuronen niet werden geactiveerd door de getoonde angle.\n",
    "# Wel moet je dan na zo'n 500 ms de data afkappen, anders worden de neuronen die vuren voor de impulse\n",
    "# en de tweede stimulus meegenomen in de aggregatie en krijg je pieken voor trials en neuronen waarbij\n",
    "# er geen reactie was op de allereerste stimulus."
   ]
  },
  {
   "cell_type": "code",
   "execution_count": 99,
   "metadata": {},
   "outputs": [],
   "source": [
    "# K-means (old)\n",
    "num_channels = 10\n",
    "neurons = np.mean(sen_data, 0).T # 1000 by 3000\n",
    "kmeans = KMeans(n_clusters=num_channels, n_init=20, n_jobs=10, tol=1e-20, verbose=2).fit(neurons)"
   ]
  },
  {
   "cell_type": "code",
   "execution_count": 4,
   "metadata": {},
   "outputs": [],
   "source": [
    "# K-means over trials\n",
    "cut_data = sen_data[:, :500, :] # 350 by 500 by 1000\n",
    "num_channels = 10\n",
    "neurons = np.mean(cut_data, 1).T # 1000 by 350\n",
    "kmeans = KMeans(n_clusters=num_channels, n_init=20, n_jobs=10, tol=1e-20).fit(neurons)"
   ]
  },
  {
   "cell_type": "code",
   "execution_count": 5,
   "metadata": {},
   "outputs": [
    {
     "data": {
      "text/plain": [
       "27"
      ]
     },
     "execution_count": 5,
     "metadata": {},
     "output_type": "execute_result"
    }
   ],
   "source": [
    "kmeans.n_iter_"
   ]
  },
  {
   "cell_type": "code",
   "execution_count": 6,
   "metadata": {},
   "outputs": [
    {
     "name": "stdout",
     "output_type": "stream",
     "text": [
      "1/10\n",
      "2/10\n",
      "3/10\n",
      "4/10\n",
      "5/10\n",
      "6/10\n",
      "7/10\n",
      "8/10\n",
      "9/10\n",
      "10/10\n"
     ]
    }
   ],
   "source": [
    "# K-means group assignment\n",
    "data = np.empty((sen_data.shape[0], num_channels, sen_data.shape[1])) # 350 by 10 by 3000\n",
    "for channel in range(num_channels):\n",
    "    print(str(channel + 1) + \"/\" + str(num_channels))\n",
    "    data[:, channel, :] = np.mean(sen_data[:, :, kmeans.labels_ == channel], axis=2)"
   ]
  },
  {
   "cell_type": "code",
   "execution_count": 12,
   "metadata": {},
   "outputs": [],
   "source": [
    "# Add noise to prevent division by zero errors in covdiag()\n",
    "data += np.random.normal(scale=0.5, size=(data.shape[0], data.shape[1], data.shape[2]))"
   ]
  },
  {
   "cell_type": "code",
   "execution_count": 13,
   "metadata": {},
   "outputs": [
    {
     "name": "stdout",
     "output_type": "stream",
     "text": [
      "350\n"
     ]
    }
   ],
   "source": [
    "# n angles, in degrees\n",
    "angles = np.load(\"data/initial_angles_cued4.npy\")\n",
    "# Convert to radians\n",
    "angles = angles / 360 * 2 * np.pi\n",
    "\n",
    "bin_width = np.pi / 6\n",
    "angspace = np.arange(0.5*-np.pi, 0.5*np.pi+bin_width, bin_width)\n",
    "# angspace = np.arange(-np.pi, 0 + bin_width, bin_width) # [-pi, 0] (inclusive)\n",
    "\n",
    "if __name__ == '__main__':\n",
    "    (cos_amp, distances) = wolff.similarity_p(data, angles, angspace, bin_width, num_cores=40)"
   ]
  },
  {
   "cell_type": "code",
   "execution_count": 9,
   "metadata": {},
   "outputs": [],
   "source": [
    "meaned = np.mean(np.mean(sen_data, 0), 1)"
   ]
  },
  {
   "cell_type": "code",
   "execution_count": 14,
   "metadata": {},
   "outputs": [
    {
     "data": {
      "image/png": "[encoded data removed]",
      "text/plain": [
       "<Figure size 432x288 with 1 Axes>"
      ]
     },
     "metadata": {
      "needs_background": "light"
     },
     "output_type": "display_data"
    }
   ],
   "source": [
    "cos_amp_filtered = gaussian_filter(np.mean(cos_amp, axis=0), sigma=8)\n",
    "# cos_amp_filtered = np.mean(cos_amp, axis=0)\n",
    "# cos_amp_filtered = gaussian_filter(cos_amp[1], sigma=8)\n",
    "plt.plot(cos_amp_filtered)\n",
    "plt.plot(meaned / 30 * 0.14)\n",
    "plt.show()"
   ]
  },
  {
   "cell_type": "code",
   "execution_count": 12,
   "metadata": {},
   "outputs": [
    {
     "data": {
      "text/plain": [
       "<matplotlib.image.AxesImage at 0x7fb8a84e3668>"
      ]
     },
     "execution_count": 12,
     "metadata": {},
     "output_type": "execute_result"
    },
    {
     "data": {
      "image/png": "[encoded data removed]",
      "text/plain": [
       "<Figure size 432x288 with 1 Axes>"
      ]
     },
     "metadata": {
      "needs_background": "light"
     },
     "output_type": "display_data"
    }
   ],
   "source": [
    "arr = np.random.normal(size=(100, 100))\n",
    "arr += np.arange(0, 10, 0.1)\n",
    "plt.imshow(arr, cmap='jet', vmin=-10, vmax=np.max(arr))"
   ]
  },
  {
   "cell_type": "code",
   "execution_count": null,
   "metadata": {},
   "outputs": [],
   "source": []
  }
 ],
 "metadata": {
  "kernelspec": {
   "display_name": "Python 3",
   "language": "python",
   "name": "python3"
  },
  "language_info": {
   "codemirror_mode": {
    "name": "ipython",
    "version": 3
   },
   "file_extension": ".py",
   "mimetype": "text/x-python",
   "name": "python",
   "nbconvert_exporter": "python",
   "pygments_lexer": "ipython3",
   "version": "3.6.10"
  }
 },
 "nbformat": 4,
 "nbformat_minor": 4
}
